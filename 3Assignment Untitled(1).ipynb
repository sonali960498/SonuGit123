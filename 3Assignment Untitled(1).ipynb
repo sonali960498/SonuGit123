{
 "cells": [
  {
   "cell_type": "markdown",
   "id": "814c012f-27e8-464b-91e9-eacc41364aab",
   "metadata": {},
   "source": [
    "#Q.1 Why are functions advantageous to have in your programs?"
   ]
  },
  {
   "cell_type": "raw",
   "id": "7e7d6632-5eb2-43cc-a552-4a62d468227b",
   "metadata": {},
   "source": [
    "Answer-\n",
    "Functions allow you to break down a complex into smaller, manageble chunks.This promotes modularity, making the code easier to read,understand,and maintain.\n",
    "once you define a function,you can use it multiple times in your code without rewriting the same logic.\n",
    "Functins abstract the underlying implementation details,allowing you to focus on what the function does rather than how it does it.This enhances code clarity and reduces complexity.\n",
    "Functions help organize code logically. By grouping related code together,it becomes esier to navigate maintain a large codebase.\n",
    "Functions facilitate easier testing and debugging.\n",
    "Function allow you to optimize performance by focusing on specific sections of code that may need improvement,without affecting the rest of the program."
   ]
  },
  {
   "cell_type": "markdown",
   "id": "291dcfae-9cff-454b-9e1e-80fedd8ff21b",
   "metadata": {},
   "source": [
    "#Q.2 When does the code in a function run:when it's specified or when it's called?"
   ]
  },
  {
   "cell_type": "raw",
   "id": "304de49e-7675-4089-94c3-09fbaf1934a9",
   "metadata": {},
   "source": [
    "Answer- The code in a function runs when the function is called,not when it's specified. Whaen the function is called during the program's execution,the code inside the function's body executed,and its defined actions are perfoemed."
   ]
  },
  {
   "cell_type": "markdown",
   "id": "2113c2b6-8713-4aea-831e-98e5b15b9764",
   "metadata": {},
   "source": [
    "#Q.3 What statement creates a function?"
   ]
  },
  {
   "cell_type": "raw",
   "id": "0b36e0f1-08df-4ae3-8e5e-9f8253ccaaa0",
   "metadata": {},
   "source": [
    "Answer - The def statement defines(that is,creats)a function.\n",
    "The statement that creat a function is typically called a function declaration or function definition."
   ]
  },
  {
   "cell_type": "markdown",
   "id": "759ebf25-8024-4de5-9616-2887807fa108",
   "metadata": {},
   "source": [
    "#Q.4 What is the difference between a function and a function call?"
   ]
  },
  {
   "cell_type": "raw",
   "id": "d4664459-efb5-4483-ab02-751ca280f0d7",
   "metadata": {},
   "source": [
    "Answer-\n",
    "Function: A function is a block of code that perfoms a specific task or set of tasks.It encapsulates a sequence of statements and it can have input parameters and an optinal return value. A function consists of the def statement and the code in its def clause.\n",
    "Function call: A function call is the action of executing a specific function in a program.When you call the function,you are telling the program to run the code inside that function and potentially pass arguments to it if the function takes any parameters. A function call is what moves the program execution into the function call evaluates to the function's return value."
   ]
  },
  {
   "cell_type": "markdown",
   "id": "6aa4a7eb-4e7d-430e-88c1-f88523bc4ecc",
   "metadata": {},
   "source": [
    "#Q.5 How many global scopes are there in a Python program? How many local scopes?"
   ]
  },
  {
   "cell_type": "raw",
   "id": "473442fa-36a2-4fb3-a432-6ef463880edc",
   "metadata": {},
   "source": [
    "Answer- In a Python program,there is only one global scope,which is the top-level scope of the program.\n",
    "Local scope is created whenever a function is called.Each function creates its own local scope when callea and this scope is seperate from the global scope."
   ]
  },
  {
   "cell_type": "markdown",
   "id": "eecea77a-2013-4282-b7e9-5062ceb72c89",
   "metadata": {},
   "source": [
    "#Q.6 What happens to variables in a local scope when function call returns?"
   ]
  },
  {
   "cell_type": "raw",
   "id": "219c18e5-137a-4462-9e35-866a941f951e",
   "metadata": {},
   "source": [
    "Answer- When a function call returns in Python,the local scope of that function is destroyed, and the variables defined within that scope cease to exist.\n",
    "This process is known as variable scope or variable lifetime."
   ]
  },
  {
   "cell_type": "markdown",
   "id": "965af714-7b85-4615-ace1-aae5623a8cd2",
   "metadata": {},
   "source": [
    "#Q.7 What is the concept of a return value? Is it possible to have return value in an expression?"
   ]
  },
  {
   "cell_type": "raw",
   "id": "9e779f3d-60e0-428d-9fcb-64b4b51afe9f",
   "metadata": {},
   "source": [
    "Answer- The concept of a return value in programming refers to the value that a function give back to the caller once it completes its execution.When a function is called, it may perform certain operations and then provide a result to the call using the return statement.\n",
    "Yes it is possible to have a return value in an expression.in python,you can use the return value of a function directly in an expression by assigning it to a variable or using it in calculations."
   ]
  },
  {
   "cell_type": "markdown",
   "id": "b37b7411-7063-4c21-907c-b2ba90264195",
   "metadata": {},
   "source": [
    "#Q.8 If a function does not have a return statement,what is the return value of a call to that function?"
   ]
  },
  {
   "cell_type": "raw",
   "id": "27c924bf-17a8-45aa-96e3-3080e78223e2",
   "metadata": {},
   "source": [
    "Answer- If a function in Python does not have a return statement,it implicitly returns a special value called None. None is a built in constant representing the absence of a value."
   ]
  },
  {
   "cell_type": "markdown",
   "id": "cd1fd6e7-ebae-4ded-a4da-73dcba03a670",
   "metadata": {},
   "source": [
    "#Q.9 How do you make a function variable refer to global variable?"
   ]
  },
  {
   "cell_type": "raw",
   "id": "4c84ff70-4c8e-4ddc-b44f-14d4cb9586de",
   "metadata": {},
   "source": [
    "Answer- To make a function variable refer to the global variable with the same name,you need to use the global keyword inside the function.This tells Python that the variable you're using inside the function should refer to the global variable with the same name,rather than creating a new local variable."
   ]
  },
  {
   "cell_type": "markdown",
   "id": "b5d04035-c99e-4fe2-ae84-3828c4fd3b67",
   "metadata": {},
   "source": [
    "#Q.10 What is the data type of none?"
   ]
  },
  {
   "cell_type": "raw",
   "id": "0d3b36c7-dc3a-4fea-9d8a-5457429e6d9b",
   "metadata": {},
   "source": [
    "Answer- The data type of None in Python is called NoneType.It is a special data type that represents the absence of value."
   ]
  },
  {
   "cell_type": "code",
   "execution_count": 1,
   "id": "30470387-68fa-42bf-b6f9-beadfc1c82a2",
   "metadata": {},
   "outputs": [
    {
     "name": "stdout",
     "output_type": "stream",
     "text": [
      "<class 'NoneType'>\n"
     ]
    }
   ],
   "source": [
    "result = None\n",
    "print(type(result))"
   ]
  },
  {
   "cell_type": "markdown",
   "id": "8def4610-8f3f-4192-ace2-1c00a34d4204",
   "metadata": {},
   "source": [
    "#Q.11 What does the sentence import areallyourpetsnamederic do?"
   ]
  },
  {
   "cell_type": "raw",
   "id": "671960cf-e050-4b86-bf10-2caab162bd03",
   "metadata": {},
   "source": [
    "Answer- The senence \"import areallyourpetsnamederic\" does not have any effect on its own. It is just a regular string literal and does not trigger any specific action in python."
   ]
  },
  {
   "cell_type": "markdown",
   "id": "5ba6c298-d301-427f-85df-d679b466ef48",
   "metadata": {},
   "source": [
    "#Q.12 If you have a bacon() feature in a spam module, what would you call it after importing spam?"
   ]
  },
  {
   "cell_type": "raw",
   "id": "f784f70d-cdac-4eff-bf56-4e1f0ddcee3f",
   "metadata": {},
   "source": [
    "Answer- After importing the spam module in python,you would access the bacon() feature by using the dot notation like this:'spam.bacon()'.This allow you to call the bacon() function from the spam module and use its function in your Python code."
   ]
  },
  {
   "cell_type": "markdown",
   "id": "996c7246-19a1-4e84-8f0c-92fe50507694",
   "metadata": {},
   "source": [
    "#Q.13 What can you do to save a programme from crashing if it encounters an error?"
   ]
  },
  {
   "cell_type": "raw",
   "id": "5f6986ba-70cf-4fb8-a40f-a9ef74b85cd7",
   "metadata": {},
   "source": [
    "Answer- To save a program from crashing when it encounters an error,you can implement error handling techniques such as using try-except blocks.By wraping the potentially problematic code in a try block, you can catch any exceptions that may occur during execution.If an exception occurs,it will be handled gracefully in the except block,allowing the program to continue running instead of crashing.Additionally,logging and debugging can help identify the root cause of the error and aid in resolving the issue."
   ]
  },
  {
   "cell_type": "markdown",
   "id": "315482a1-2705-45f2-afd5-dedca4893f03",
   "metadata": {},
   "source": [
    "#Q.14 What is the purpose of the try clause? What is the purpose of the except clause?"
   ]
  },
  {
   "cell_type": "raw",
   "id": "097c19ee-e1d9-495c-bfdc-3e75501f6a4b",
   "metadata": {},
   "source": [
    "Answer- \n",
    "try caluse - The purpose of the try clause in python is to define a block of code that might raise an exception during execution.The code within the try block is monitored for any exceptions.If an exception occurs while executing the code in the try block, the execution of the try block is immediately halted,and the control is passed to the appropriate except block, if one exists.\n",
    "except clause - The purpose of the except clause is to handle the exceptions that were raised within the corresponding try block. when an exception occurs, python checks if there is an appropriate except block that can handle the specific exception type raised.If a matching except block is found,the code inside that block is executed to handle the exception gracefully. This allows you to handle errors,perform cleanup actions,or take necessary actions to recover from the exceptional situation without crashing the program."
   ]
  }
 ],
 "metadata": {
  "kernelspec": {
   "display_name": "Python 3 (ipykernel)",
   "language": "python",
   "name": "python3"
  },
  "language_info": {
   "codemirror_mode": {
    "name": "ipython",
    "version": 3
   },
   "file_extension": ".py",
   "mimetype": "text/x-python",
   "name": "python",
   "nbconvert_exporter": "python",
   "pygments_lexer": "ipython3",
   "version": "3.10.6"
  }
 },
 "nbformat": 4,
 "nbformat_minor": 5
}
