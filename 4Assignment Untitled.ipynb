{
 "cells": [
  {
   "cell_type": "markdown",
   "id": "fd01c9d9-84e6-4bf6-9926-89ddd774acae",
   "metadata": {},
   "source": [
    "#Q.1 What exactly is []?"
   ]
  },
  {
   "cell_type": "raw",
   "id": "00cbd36c-032d-4115-85f8-ba5a822620b9",
   "metadata": {},
   "source": [
    "The symbol [] typically represents an empty list or an empty array in various programming languages.It indicates a dat structure that contains no elements."
   ]
  },
  {
   "cell_type": "markdown",
   "id": "93529036-8a3d-4359-951a-a51f46b9a0f3",
   "metadata": {},
   "source": [
    "#Q.2 In a list of values stored in a variable called spam, how would you assign the value 'hello' as third value?(Assume[2,4,6,8,10]are in spam.)\n",
    "Let's pretend the spam includes the list ['a','b','c','d']for the next three queries."
   ]
  },
  {
   "cell_type": "raw",
   "id": "1c61ac84-1f24-4ed0-8836-447f57a42a15",
   "metadata": {},
   "source": [
    "To assign the value 'hello' as the third value in the list stored in the variable called 'spam', you can use the following code:"
   ]
  },
  {
   "cell_type": "code",
   "execution_count": null,
   "id": "d2311d86-bf3a-4e15-8ef4-aea13b3dc10c",
   "metadata": {},
   "outputs": [],
   "source": [
    "spam = [2,4,6,8,10]\n",
    "spam[2] = 'hello'"
   ]
  },
  {
   "cell_type": "raw",
   "id": "88ea0fc0-25af-47c2-8d45-f473ecf6f9fe",
   "metadata": {},
   "source": [
    "After executing this code,the 'spam' list will be updateed to '[2,4,'hello',6,8,10]'."
   ]
  },
  {
   "cell_type": "markdown",
   "id": "a2a61ce7-3109-4097-8deb-c98ff7dc9e14",
   "metadata": {},
   "source": [
    "#Q.3 What is the value of spam[int('3'*2)/11)]?"
   ]
  },
  {
   "cell_type": "raw",
   "id": "1fa4c882-e68f-40fd-bd20-15cf9f57798c",
   "metadata": {},
   "source": [
    "'int('3'*2)' evaluates '33' because it concatenates two copies of the string'3'.\n",
    "'int('33'/11)' evaluates to '3' because '33' divided by '11' result in '3.0', and converting it to an integer truncates the decimal part.\n",
    "Now,'spam[3]' accesees the fourth element in the list 'spam'since python uses 0-based indexing.\n",
    "Considering the previous value of spam as 'spam = ['a','b','c','d'],the value of 'spam[int(int('3'*2)/11)] is 'd'."
   ]
  },
  {
   "cell_type": "markdown",
   "id": "7101c907-090f-4208-b322-f855550a5393",
   "metadata": {},
   "source": [
    "#Q.4 What is the value of spam[-1]?"
   ]
  },
  {
   "cell_type": "raw",
   "id": "ca3ac83c-10ca-40f4-afe8-8e42aaa9e259",
   "metadata": {},
   "source": [
    "The value of 'spam[-1]' would be the last element of the list or sequence named \"spam.'For instance,if the list contains elements[1,2,3],then 'spam[-1]'would be equal to 4."
   ]
  },
  {
   "cell_type": "markdown",
   "id": "66b1ce57-7ef7-4f5b-88e1-afb36deb5716",
   "metadata": {},
   "source": [
    "#Q.5 What is the value of spam[:2]?\n",
    "Let's pretend bacon has the list [3.14,'cat,'11,'cat,'True]for the next three questions."
   ]
  },
  {
   "cell_type": "raw",
   "id": "00a0bce9-fb86-492a-8205-8bfe4d7ea705",
   "metadata": {},
   "source": [
    "In the list \"bacon\"[3.14,'cat',11,'cat,'True], the value of 'bacon[:2]' would be[3.14,'cat'].It selects the elements starting from the begining of the list(index 0)up to,but not including,index 2."
   ]
  },
  {
   "cell_type": "markdown",
   "id": "33aa403e-866f-488f-9818-215857c9cfb6",
   "metadata": {},
   "source": [
    "#Q.6 What is the value of bacon.index('cat')?"
   ]
  },
  {
   "cell_type": "raw",
   "id": "de1f13d8-8968-4693-9b2d-4d4fca9507b7",
   "metadata": {},
   "source": [
    "The value of 'bacon.index('cat')'would be 1. It returns the index of the first occurrence of the element 'cat' in the list\"bacon.\" in this case 'cat is the first found at index 1 in the list[3.14,'cat,11,'cat',True]."
   ]
  },
  {
   "cell_type": "markdown",
   "id": "1fd94198-7e10-41e9-bc29-466a437f7ed6",
   "metadata": {},
   "source": [
    "#Q.7 How does bacon.append(99)change the look of the list value in bacon?"
   ]
  },
  {
   "cell_type": "raw",
   "id": "597fe5c6-58a2-48ed-a378-a5777999db65",
   "metadata": {},
   "source": [
    "When you use 'bacon.append(99)', it adds the value '99'to the end of the list named 'bacon'. So,the list 'bacon'will now have an additional element at the end, making it longer by one element.The new list will have'99' as the last element.Any existing elements in the original'bacon'list will remain unchanged."
   ]
  },
  {
   "cell_type": "markdown",
   "id": "a7195080-f1a6-4c7a-b364-70599412967b",
   "metadata": {},
   "source": [
    "#Q.8 How does bacon.remove('cat')change the look of the list in bacon?"
   ]
  },
  {
   "cell_type": "raw",
   "id": "269bbfd1-6ab2-4e69-8a96-0db9806eec81",
   "metadata": {},
   "source": [
    "When you use 'bacon.remove('cat'),it will search for the first occurrence of the string'cat' in the list named 'bacon' and remove it from the list.If 'cat is found, it will be removed,and the list will be modified in place. If 'cat'is not present in the list, it will raise a valueError.\n",
    "After executing 'bacon.remove('cat'),the list 'bacon' will be changed, and any occurrences of the string'cat' will be removed from the list. The positions of other elements in the list will be adjusted accordingly.If there are multiple occurrences of 'cat', only the first one will be removed. If there no occurrences of 'cat , the list will remain unchanged."
   ]
  },
  {
   "cell_type": "markdown",
   "id": "b2a54210-39ea-419a-87a4-4088e977a7c0",
   "metadata": {},
   "source": [
    "#Q.9 What are the list concatenation and list replication operators?"
   ]
  },
  {
   "cell_type": "raw",
   "id": "892da26b-c6f7-4f02-8242-bd34b5189d05",
   "metadata": {},
   "source": [
    "The list concatenation operator in python is'+', which is used to combine two or more lists into a single list.When you use the '+' operator between two lists,it creates a new list that contains all the elements from both original lists.For example:"
   ]
  },
  {
   "cell_type": "code",
   "execution_count": 1,
   "id": "04f1309c-cb1f-4153-9424-ab7de2c1c2ac",
   "metadata": {},
   "outputs": [
    {
     "name": "stdout",
     "output_type": "stream",
     "text": [
      "[1, 2, 3, 4, 5, 6]\n"
     ]
    }
   ],
   "source": [
    "list1 = [1,2,3]\n",
    "list2 = [4,5,6]\n",
    "result = list1 + list2\n",
    "print(result)"
   ]
  },
  {
   "cell_type": "raw",
   "id": "a424a991-eb30-4251-b6c2-2f6f73fa1580",
   "metadata": {},
   "source": [
    "The list replication operator in python is '*',which is used to repeat a list multiple times to creat a new list.For example:"
   ]
  },
  {
   "cell_type": "code",
   "execution_count": 2,
   "id": "4fee8d7e-b249-4a1b-b82e-31281dfa8960",
   "metadata": {},
   "outputs": [
    {
     "name": "stdout",
     "output_type": "stream",
     "text": [
      "[1, 2, 3, 1, 2, 3, 1, 2, 3]\n"
     ]
    }
   ],
   "source": [
    "list1 = [1,2,3]\n",
    "repeated_list = list1*3\n",
    "print(repeated_list)"
   ]
  },
  {
   "cell_type": "raw",
   "id": "9704011e-55a3-4cf7-aedf-919c097ead8a",
   "metadata": {},
   "source": [
    "Both operators are handy for manipulating and creating lists in python."
   ]
  },
  {
   "cell_type": "markdown",
   "id": "8c29be51-d1ac-460e-8297-be056b1c1a13",
   "metadata": {},
   "source": [
    "#Q.10 What is the difference between the list methode append()and insert()? "
   ]
  },
  {
   "cell_type": "raw",
   "id": "d38c105e-0774-4711-9305-c320c3f47748",
   "metadata": {},
   "source": [
    "The 'append()' method is used to add an element to the end of a list, while the 'insert()'method is used to insert to insert an element at a specific index in the list.So,'apped()' adds the element at the end, and 'insert()' allows you to specify the position where the element should be insrted."
   ]
  },
  {
   "cell_type": "markdown",
   "id": "e404ba96-0189-470e-96bc-9e6be89e1544",
   "metadata": {},
   "source": [
    "#Q.11 What are the two methods for removing items from a list?"
   ]
  },
  {
   "cell_type": "raw",
   "id": "a8dfce63-b0a3-47af-9f80-49153f933557",
   "metadata": {},
   "source": [
    "1 'remove(item)': This method removes the first occurrence of the specified item from the list.\n",
    "2 'pop(index)': This method removes the element at the specified index from the list and returns the removed element.If no index is provided,it removes and returns the last element in the list."
   ]
  },
  {
   "cell_type": "markdown",
   "id": "4493434e-f64b-4563-8934-58cdeca8ba10",
   "metadata": {},
   "source": [
    "Q.12 Describe how list values and sting values are identical."
   ]
  },
  {
   "cell_type": "raw",
   "id": "a183d6e5-9663-4a9f-b09a-6e775a5086c7",
   "metadata": {},
   "source": [
    "List values and string values are bothe sequences of elements,but they have some similarities that make them identical in certain aspects:\n",
    "1.Sequential Access: Both lists and strings allow sequential access to their elements.You can cees individual elements using indexing,e.g.,'my_list[0]'for lists or 'my_string[0]'for string.\n",
    "2.Iterability:They are iterable,which means you can loop through their elements using a'for'loop or other iterable functions.\n",
    "3.Length:You can find the length of both lists and strings using the 'len()'function.\n",
    "4.Slicing:Both support slicing,enabling you to extract subsequences from them using the syntax 'my_list[start:end]' or 'my_string[start:end]'."
   ]
  },
  {
   "cell_type": "markdown",
   "id": "69ed83b9-6e68-43e4-9ed5-5e7c3a494fc2",
   "metadata": {},
   "source": [
    "#Q.13 What's the difference between tuples and lists?"
   ]
  },
  {
   "cell_type": "raw",
   "id": "65941878-ba68-466e-aaf6-e1c955bbbe2b",
   "metadata": {},
   "source": [
    "Tuples and lists are both data structures in python,but they have some key differences:\n",
    "\n",
    "Mutability:\n",
    "*Tuples are immutable, meaning once created,you cannot change,add,or remove elements from a tuple.If you try to modify a tuple,it will result in an error.\n",
    "*List are mutable,allowing you to modify,add,or remove elements freely.\n",
    "\n",
    "Syntax:\n",
    "*Tuples are defined using parenthese'()',e.g 'my_tuple = (1,2,3)'.\n",
    "*Lists are defined using square brackets'[]',e.g 'my_list = [1,2,3]'.\n",
    "\n",
    "Use cases:\n",
    "*Tuples are typically used for fixed collections of items that should not be changed,like coordinates,RGB colors,or a pair of value.\n",
    "*Lists are commonly used for dynamic collections of items where you need to modify or extend the collection during the program's execution.\n",
    "\n",
    "Methods:\n",
    "*Since tuples are immutable,they have a limited set of methods compared to lists.For instance,you can't use 'append()','insert()',or remove()' with tuples.\n",
    "*List have a broader range of methods,including ones that modify the list's content.\n",
    "\n",
    "Performance:\n",
    "*Due to their immutability,tuples are generally faster and consume less memmory than lists.\n",
    "*Lists being mutable,might require more memory and can be slightly slower when performing modifications."
   ]
  },
  {
   "cell_type": "markdown",
   "id": "4144b3af-529a-4921-af97-0d935cbd601c",
   "metadata": {},
   "source": [
    "#Q.14 How do you type a tuple value that only contains the integer 42?"
   ]
  },
  {
   "cell_type": "raw",
   "id": "c704687f-cdf2-408a-baae-10df9555222d",
   "metadata": {},
   "source": [
    "You can define the tuple using parentheses and include the integer 42 within it."
   ]
  },
  {
   "cell_type": "code",
   "execution_count": null,
   "id": "ccd97111-e942-42b2-bd96-a76061502497",
   "metadata": {},
   "outputs": [],
   "source": [
    "my_tuple = (42,)"
   ]
  },
  {
   "cell_type": "raw",
   "id": "e98e2304-6f5d-4860-9975-5d1eba70e2cd",
   "metadata": {},
   "source": [
    "The comma after the integer 42 is essential to differentiate it from just using parentheses for grouping.The comma makes it clear that you are creating a tuple with a single element (42),rather than just grouping the integer 42."
   ]
  },
  {
   "cell_type": "markdown",
   "id": "1f816424-d48e-42e8-a8ab-db69a2a3b936",
   "metadata": {},
   "source": [
    "#Q.15 How do you get a list value's tuple form? How do you get a tuple value's list form?"
   ]
  },
  {
   "cell_type": "raw",
   "id": "be30366b-7492-4acc-8a18-54e980dd3c99",
   "metadata": {},
   "source": [
    "To get a list value's tuple form, you can use the 'tuple()'function.It converts the list into a tuple.e.g"
   ]
  },
  {
   "cell_type": "code",
   "execution_count": 1,
   "id": "7f88d732-e628-422b-89ba-eb46082dcc4c",
   "metadata": {},
   "outputs": [],
   "source": [
    "my_list = [1,2,3,4,5]\n",
    "my_tuple = tuple(my_list)"
   ]
  },
  {
   "cell_type": "raw",
   "id": "6b584c7e-a32e-40b3-aec3-65d10bd7667e",
   "metadata": {},
   "source": [
    "To get a tuple value's list form,you can use the 'list()'function.It converts the tuple into a list.e.g"
   ]
  },
  {
   "cell_type": "code",
   "execution_count": null,
   "id": "744ccc22-bdd6-4e02-b15e-fa2a710af208",
   "metadata": {},
   "outputs": [],
   "source": [
    "my_tuple = (1,2,3,4,5)\n",
    "my_list = list(my_tuple)"
   ]
  },
  {
   "cell_type": "raw",
   "id": "746d82ff-ee89-4b74-b1b3-cb9c437b9219",
   "metadata": {},
   "source": [
    "In both cases,the result variable ('my_tuple'or my_list') will have the converted form of the original data structure"
   ]
  },
  {
   "cell_type": "markdown",
   "id": "de9adad2-64b1-486b-b703-392c3cb3df90",
   "metadata": {},
   "source": [
    "#Q.16 Variables that \"contain\" list values are not necessarily lists themselves.Instead, what do they contain?"
   ]
  },
  {
   "cell_type": "raw",
   "id": "f81e9faf-1b1a-4689-b06d-a878bd220aaa",
   "metadata": {},
   "source": [
    "Variable that \"contain\"list values in python actually contain references to the list objects rather than the lists themeselves.When you assign a list to a variable, the variable stores the memory address(references)of the list in the computer's memory."
   ]
  },
  {
   "cell_type": "markdown",
   "id": "7553d9eb-ef5c-4745-bf6c-845c028f7950",
   "metadata": {},
   "source": [
    "#Q.17 How do you distinguish between copy.copy() and copy.deepcopy()?"
   ]
  },
  {
   "cell_type": "raw",
   "id": "570d9438-8b6a-401f-b7be-fc942e5b7180",
   "metadata": {},
   "source": [
    "1.'copy.copy()':\n",
    "   'copy.copy()' creates a shallow copy of an object.It duplicates the top-level structure of the original object, but it does not create copies of the nested objects inside the original object.\n",
    "   If the orignal object contains references to other objects (e.g lists or dictionaries),the shallow copy will only copy the references,not the referenced objects themselves. As a result, changes to the nested objects will affect both the original and copied object.\n",
    "   \n",
    "2.'copy.deepcopy()':\n",
    "   ''copy.deepcopy()'creates a deep copy of an object.It duplicates the entire object structure,including all nested objects, recursively.\n",
    "   It ensures that the copied object and all its nested objects are copletely independent of the original object.Changes to the nested objects in the copied object will not affecte the original object."
   ]
  }
 ],
 "metadata": {
  "kernelspec": {
   "display_name": "Python 3 (ipykernel)",
   "language": "python",
   "name": "python3"
  },
  "language_info": {
   "codemirror_mode": {
    "name": "ipython",
    "version": 3
   },
   "file_extension": ".py",
   "mimetype": "text/x-python",
   "name": "python",
   "nbconvert_exporter": "python",
   "pygments_lexer": "ipython3",
   "version": "3.10.6"
  }
 },
 "nbformat": 4,
 "nbformat_minor": 5
}
